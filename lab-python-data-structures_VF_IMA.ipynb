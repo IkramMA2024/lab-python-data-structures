{
 "cells": [
  {
   "cell_type": "markdown",
   "metadata": {
    "tags": []
   },
   "source": [
    "# Lab | Data Structures "
   ]
  },
  {
   "cell_type": "markdown",
   "metadata": {},
   "source": [
    "## Exercise: Managing Customer Orders\n",
    "\n",
    "As part of a business venture, you are starting an online store that sells various products. To ensure smooth operations, you need to develop a program that manages customer orders and inventory.\n",
    "\n",
    "Follow the steps below to complete the exercise:\n",
    "\n",
    "1. Define a list called `products` that contains the following items: \"t-shirt\", \"mug\", \"hat\", \"book\", \"keychain\".\n",
    "\n",
    "2. Create an empty dictionary called `inventory`.\n",
    "\n",
    "3. Ask the user to input the quantity of each product available in the inventory. Use the product names from the `products` list as keys in the `inventory` dictionary and assign the respective quantities as values.\n",
    "\n",
    "4. Create an empty set called `customer_orders`.\n",
    "\n",
    "5. Ask the user to input the name of three products that a customer wants to order (from those in the products list, meaning three products out of \"t-shirt\", \"mug\", \"hat\", \"book\" or \"keychain\". Add each product name to the `customer_orders` set.\n",
    "\n",
    "6. Print the products in the `customer_orders` set.\n",
    "\n",
    "7. Calculate the following order statistics:\n",
    "   - Total Products Ordered: The total number of products in the `customer_orders` set.\n",
    "   - Percentage of Products Ordered: The percentage of products ordered compared to the total available products.\n",
    "   \n",
    "   Store these statistics in a tuple called `order_status`.\n",
    "\n",
    "8. Print the order statistics using the following format:\n",
    "   ```\n",
    "   Order Statistics:\n",
    "   Total Products Ordered: <total_products_ordered>\n",
    "   Percentage of Products Ordered: <percentage_ordered>% \n",
    "   ```\n",
    "\n",
    "9. Update the inventory by subtracting 1 from the quantity of each product. Modify the `inventory` dictionary accordingly.\n",
    "\n",
    "10. Print the updated inventory, displaying the quantity of each product on separate lines.\n",
    "\n",
    "Solve the exercise by implementing the steps using the Python concepts of lists, dictionaries, sets, and basic input/output operations. "
   ]
  },
  {
   "cell_type": "code",
   "execution_count": 64,
   "metadata": {},
   "outputs": [
    {
     "name": "stdin",
     "output_type": "stream",
     "text": [
      "Entrez la quantité disponible pour 't-shirt':  100\n",
      "Entrez la quantité disponible pour 'mug':  150\n",
      "Entrez la quantité disponible pour 'hat':  200\n",
      "Entrez la quantité disponible pour 'book':  250\n",
      "Entrez la quantité disponible pour 'keychain':  300\n"
     ]
    },
    {
     "name": "stdout",
     "output_type": "stream",
     "text": [
      "Produits disponibles : t-shirt, mug, hat, book, keychain\n",
      "Veuillez saisir le nom et la quantité de trois produits que vous souhaitez commander :\n"
     ]
    },
    {
     "name": "stdin",
     "output_type": "stream",
     "text": [
      "Nom du produit :  t-shirt\n",
      "Quantité de t-shirt :  10\n",
      "Nom du produit :  mug\n",
      "Quantité de mug :  15\n",
      "Nom du produit :  hat\n",
      "Quantité de hat :  20\n"
     ]
    },
    {
     "name": "stdout",
     "output_type": "stream",
     "text": [
      "Commandes clients : {('t-shirt', 10), ('mug', 15), ('hat', 20)}\n"
     ]
    }
   ],
   "source": [
    "#1. Define a list called products that contains the following items: \"t-shirt\", \"mug\", \"hat\", \"book\", \"keychain\".\n",
    "products = [\"t-shirt\", \"mug\", \"hat\", \"book\", \"keychain\"]\n",
    "\n",
    "#2. Create an empty dictionary called inventory.\n",
    "inventory = {}\n",
    "\n",
    "#3. Demander la quantité disponible pour chaque produit et stocker dans le dictionnaire inventory\n",
    "for product in products:\n",
    "    quantity = input(f\"Entrez la quantité disponible pour '{product}': \")\n",
    "    try:\n",
    "        quantity = int(quantity)\n",
    "    except ValueError:\n",
    "        print(\"Veuillez entrer un nombre entier.\")\n",
    "        continue\n",
    "    inventory[product] = quantity\n",
    "\n",
    "#4. Create an empty set called customer_orders.\n",
    "customer_orders = set()\n",
    "\n",
    "#5. Ask the user to input the name of three products that a customer wants to order (from those in the products list, meaning three products out of \"t-shirt\", \"mug\", \"hat\", \"book\" or \"keychain\". Add each product name to the customer_orders set.\n",
    "def saisir_commandes():\n",
    "    print(\"Produits disponibles :\", \", \".join(products))\n",
    "    print(\"Veuillez saisir le nom et la quantité de trois produits que vous souhaitez commander :\")\n",
    "    for i in range(3): \n",
    "        product = input(\"Nom du produit : \")\n",
    "        \n",
    "        if product in products:\n",
    "            quantity = input(f\"Quantité de {product} : \")\n",
    "            try:\n",
    "                quantity = int(quantity)\n",
    "            except ValueError:\n",
    "                print(\"Veuillez entrer un nombre entier.\")\n",
    "                return\n",
    "            customer_orders.add((product, quantity))\n",
    "        else:\n",
    "            print(\"Le produit saisi n'est pas disponible.\")\n",
    "\n",
    "saisir_commandes()\n",
    "\n",
    "#6.Print the products in the customer_orders set.\n",
    "print(\"Commandes clients :\", customer_orders)\n",
    "\n",
    "#Statistiques\n",
    "# Calcul du total des produits commandés\n",
    "total_ordered = sum(quantity for product, quantity in customer_orders)\n",
    "\n",
    "#Total des produits dans l'inventaires\n",
    "total_inventory = sum(inventory.values())\n",
    "\n",
    "# Calcul du pourcentage de produits commandés par rapport au total des produits disponibles\n",
    "percentage_ordered = (total_ordered / total_inventory) * 100\n",
    "\n",
    "# Stockage des statistiques dans un tuple\n",
    "order_status = (total_ordered, percentage_ordered)"
   ]
  },
  {
   "cell_type": "code",
   "execution_count": 65,
   "metadata": {},
   "outputs": [
    {
     "name": "stdout",
     "output_type": "stream",
     "text": [
      "Statistiques de commande :\n",
      "Total des produits commandés : 45\n",
      "Pourcentage de produits commandés : 4.50 %\n",
      "1000\n",
      "45\n"
     ]
    }
   ],
   "source": [
    "print(\"Statistiques de commande :\")\n",
    "print(f\"Total des produits commandés : {total_ordered}\")\n",
    "print(f\"Pourcentage de produits commandés : {percentage_ordered:.2f} %\")\n",
    "print(total_inventory)\n",
    "print(total_ordered)"
   ]
  },
  {
   "cell_type": "code",
   "execution_count": 66,
   "metadata": {},
   "outputs": [],
   "source": [
    "#9. Update the inventory by subtracting 1 from the quantity of each product. Modify the inventory dictionary accordingly.\n",
    "for product in inventory:\n",
    "    inventory[product] -= 1"
   ]
  },
  {
   "cell_type": "code",
   "execution_count": 67,
   "metadata": {},
   "outputs": [
    {
     "name": "stdout",
     "output_type": "stream",
     "text": [
      "Inventaire mis à jour :\n",
      "t-shirt: 99\n",
      "mug: 149\n",
      "hat: 199\n",
      "book: 249\n",
      "keychain: 299\n"
     ]
    }
   ],
   "source": [
    "#10. Print the updated inventory, displaying the quantity of each product on separate lines.\n",
    "print(\"Inventaire mis à jour :\")\n",
    "for product, quantity in inventory.items():\n",
    "    print(f\"{product}: {quantity}\")"
   ]
  },
  {
   "cell_type": "code",
   "execution_count": null,
   "metadata": {},
   "outputs": [],
   "source": []
  }
 ],
 "metadata": {
  "kernelspec": {
   "display_name": "Python 3 (ipykernel)",
   "language": "python",
   "name": "python3"
  },
  "language_info": {
   "codemirror_mode": {
    "name": "ipython",
    "version": 3
   },
   "file_extension": ".py",
   "mimetype": "text/x-python",
   "name": "python",
   "nbconvert_exporter": "python",
   "pygments_lexer": "ipython3",
   "version": "3.11.7"
  }
 },
 "nbformat": 4,
 "nbformat_minor": 4
}
